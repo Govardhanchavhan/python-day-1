{
  "nbformat": 4,
  "nbformat_minor": 0,
  "metadata": {
    "colab": {
      "provenance": []
    },
    "kernelspec": {
      "name": "python3",
      "display_name": "Python 3"
    },
    "language_info": {
      "name": "python"
    }
  },
  "cells": [
    {
      "cell_type": "markdown",
      "source": [
        "#PYTHON DAY - 1"
      ],
      "metadata": {
        "id": "K0VhsAAPUh_j"
      }
    },
    {
      "cell_type": "markdown",
      "source": [
        "1 - PYTHON IS A HIGH LEVEL - INTERPRETED PROGRAMMING LANGUAGE.\n",
        "\n",
        "2 - known for its simplicity and readability\n",
        "\n",
        "3 - commonly used for web development, data analysisi, and AI(Data scienece)"
      ],
      "metadata": {
        "id": "HBJgg8R9U2vk"
      }
    },
    {
      "cell_type": "markdown",
      "source": [
        "from os import supports_bytes_environ\n",
        "Why Python -\n",
        "\n",
        "- easy to learn adn use\n",
        "\n",
        "- extensive libraries and community supports\n",
        "\n",
        "- cross platform compatibility\n",
        "\n",
        "-python install - python.org\n",
        "\n",
        "-"
      ],
      "metadata": {
        "id": "D2hVnPKvWQhn"
      }
    },
    {
      "cell_type": "code",
      "execution_count": 8,
      "metadata": {
        "colab": {
          "base_uri": "https://localhost:8080/"
        },
        "id": "usKCE7A2UE1d",
        "outputId": "add8d00c-aa15-4dce-fa53-a81a972bef90"
      },
      "outputs": [
        {
          "output_type": "stream",
          "name": "stdout",
          "text": [
            "Python 3.10.12\n"
          ]
        }
      ],
      "source": [
        "#version\n",
        "!python --version"
      ]
    },
    {
      "cell_type": "markdown",
      "source": [
        "#IDE - Integrated Develoopment Environment -\n",
        "it is a software application that provide comperhensive tools\n",
        "for development to write, read,debug, test, manage code\n",
        "efficiently in one uniform environement\n",
        "\n",
        "Features of IDE\n",
        "\n",
        "1- CODE EDITOR\n",
        "\n",
        "2- compiler /interpreter\n",
        "\n",
        "3- debugge\n",
        "\n",
        "\n",
        "\n",
        "EXAMPLE -\n",
        "\n",
        "1 - VS CODE- VISUAL STUDIO\n",
        "\n",
        "2- ECLIPSE\n",
        "\n",
        "3- ANACONDA- JUPYTER NOTEBOOK\n",
        "\n",
        "4- JUPYTER NOTEBOOK\n",
        "\n",
        "5 - GOOGLE COLAB\n"
      ],
      "metadata": {
        "id": "ndsD9Hc7X0gM"
      }
    },
    {
      "cell_type": "markdown",
      "source": [
        "#basic syntax of python\n",
        "\n",
        "( ) - parenthesis\n",
        "\n",
        "[ ] - BRACKET / Braces\n",
        "\n",
        "{ } - Curly bracket / Braces\n",
        "\n",
        "_ _ - underscore\n",
        "\n",
        "\" \" ' '  Quotation mark\n",
        "\n",
        "; semicolan\n",
        "\n",
        ": colan\n",
        "\n",
        "\n"
      ],
      "metadata": {
        "id": "RLndtYITZ4Wq"
      }
    },
    {
      "cell_type": "code",
      "source": [
        "print(\"Hello World\")"
      ],
      "metadata": {
        "colab": {
          "base_uri": "https://localhost:8080/"
        },
        "id": "hrY77ajnZhWG",
        "outputId": "52b955f8-2840-40ff-e662-688df26be52e"
      },
      "execution_count": 10,
      "outputs": [
        {
          "output_type": "stream",
          "name": "stdout",
          "text": [
            "Hello World\n"
          ]
        }
      ]
    },
    {
      "cell_type": "markdown",
      "source": [
        "comments"
      ],
      "metadata": {
        "id": "2uXsLkQYausH"
      }
    },
    {
      "cell_type": "code",
      "source": [
        "# this is a single line comments"
      ],
      "metadata": {
        "id": "Ds8HE0x7ZwNb"
      },
      "execution_count": 11,
      "outputs": []
    },
    {
      "cell_type": "code",
      "source": [
        "\"\"\"\n",
        "this is a\n",
        "multi\n",
        "lline\n",
        "comments\n",
        "\"\"\""
      ],
      "metadata": {
        "colab": {
          "base_uri": "https://localhost:8080/",
          "height": 35
        },
        "id": "horC119Ga7jQ",
        "outputId": "97bae4df-a0fa-48b7-abca-ac03ad113a1a"
      },
      "execution_count": 12,
      "outputs": [
        {
          "output_type": "execute_result",
          "data": {
            "text/plain": [
              "' \\nthis is a\\nmulti\\nlline\\ncomments\\n'"
            ],
            "application/vnd.google.colaboratory.intrinsic+json": {
              "type": "string"
            }
          },
          "metadata": {},
          "execution_count": 12
        }
      ]
    },
    {
      "cell_type": "markdown",
      "source": [
        "python is a interpreted and dynamically typed\n",
        "\n",
        "- The code is executed line by line by the interpreter\n",
        "\n",
        "- variable do not need to explicit type declaration\n",
        "type determine in runtime"
      ],
      "metadata": {
        "id": "7wArhoSlbMNk"
      }
    },
    {
      "cell_type": "markdown",
      "source": [
        "variable ??  - a name, number, quatity that can vary or to be varied"
      ],
      "metadata": {
        "id": "LOpoIiwkb18j"
      }
    },
    {
      "cell_type": "markdown",
      "source": [
        "#DATA TYPE"
      ],
      "metadata": {
        "id": "EsNWfSivcugK"
      }
    },
    {
      "cell_type": "code",
      "source": [
        " x = 5    # here x is variable - 5 is Integer\n",
        " y = 3.14  # float number\n",
        "\n",
        " name = \"arya\"    # string- generally use in qutation\n",
        "\n",
        " is_active = True   #boolean True & False\n",
        "\n",
        " z = 3 +5j     #complex(real + imaginary)\n"
      ],
      "metadata": {
        "id": "oYmEAYOZbDt-"
      },
      "execution_count": 15,
      "outputs": []
    },
    {
      "cell_type": "code",
      "source": [
        "print(x , y, name, is_active, z)"
      ],
      "metadata": {
        "colab": {
          "base_uri": "https://localhost:8080/"
        },
        "id": "ptSxLO8GdKX-",
        "outputId": "09affc7b-0e8b-4204-865a-8cffdb82ca68"
      },
      "execution_count": 17,
      "outputs": [
        {
          "output_type": "stream",
          "name": "stdout",
          "text": [
            "5 3.14 arya True (3+5j)\n"
          ]
        }
      ]
    },
    {
      "cell_type": "markdown",
      "source": [
        "#python is case sensitive"
      ],
      "metadata": {
        "id": "lwzfoZZ8doxt"
      }
    },
    {
      "cell_type": "code",
      "source": [
        "name = 'arya'"
      ],
      "metadata": {
        "id": "-VpZNprodTwP"
      },
      "execution_count": 18,
      "outputs": []
    },
    {
      "cell_type": "code",
      "source": [
        "print(name)"
      ],
      "metadata": {
        "colab": {
          "base_uri": "https://localhost:8080/"
        },
        "id": "tFDZlOIkdvbw",
        "outputId": "4f204426-e579-4e69-c4fd-c431e5bc9804"
      },
      "execution_count": 20,
      "outputs": [
        {
          "output_type": "stream",
          "name": "stdout",
          "text": [
            "arya\n"
          ]
        }
      ]
    },
    {
      "cell_type": "code",
      "source": [
        "Name = 'gowardhan'"
      ],
      "metadata": {
        "id": "eDFiEt5LdxkU"
      },
      "execution_count": 21,
      "outputs": []
    },
    {
      "cell_type": "code",
      "source": [
        "print(\"My name is \", name)"
      ],
      "metadata": {
        "colab": {
          "base_uri": "https://localhost:8080/"
        },
        "id": "jNyUMw8Pd6xh",
        "outputId": "27df4c63-fdb9-4bd0-c96d-babc33aaa516"
      },
      "execution_count": 22,
      "outputs": [
        {
          "output_type": "stream",
          "name": "stdout",
          "text": [
            "My name is  arya\n"
          ]
        }
      ]
    },
    {
      "cell_type": "markdown",
      "source": [
        "![image.png](data:image/png;base64,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)"
      ],
      "metadata": {
        "id": "74hM8OpBebTA"
      }
    },
    {
      "cell_type": "code",
      "source": [
        " a = 10\n",
        " b = 20\n",
        " c = a + b\n",
        " print(c)"
      ],
      "metadata": {
        "colab": {
          "base_uri": "https://localhost:8080/"
        },
        "id": "7RtelFCVeGQx",
        "outputId": "3ca4e907-9a70-4484-e450-7f1229c1dbaa"
      },
      "execution_count": 23,
      "outputs": [
        {
          "output_type": "stream",
          "name": "stdout",
          "text": [
            "30\n"
          ]
        }
      ]
    },
    {
      "cell_type": "code",
      "source": [
        "c"
      ],
      "metadata": {
        "colab": {
          "base_uri": "https://localhost:8080/"
        },
        "id": "_L3AdG-seyTc",
        "outputId": "a4dc4686-8a79-4b16-d005-8d096c86f936"
      },
      "execution_count": 24,
      "outputs": [
        {
          "output_type": "execute_result",
          "data": {
            "text/plain": [
              "30"
            ]
          },
          "metadata": {},
          "execution_count": 24
        }
      ]
    },
    {
      "cell_type": "code",
      "source": [
        "10 + 20"
      ],
      "metadata": {
        "colab": {
          "base_uri": "https://localhost:8080/"
        },
        "id": "kZTZZQpQe3Yf",
        "outputId": "31b7d8d4-96d0-4b9a-b8b2-f07dae9046da"
      },
      "execution_count": 25,
      "outputs": [
        {
          "output_type": "execute_result",
          "data": {
            "text/plain": [
              "30"
            ]
          },
          "metadata": {},
          "execution_count": 25
        }
      ]
    },
    {
      "cell_type": "code",
      "source": [
        "5 // 2"
      ],
      "metadata": {
        "colab": {
          "base_uri": "https://localhost:8080/"
        },
        "id": "8UvM_3RMe7xV",
        "outputId": "968399a2-66be-4b77-ed02-87f2e1416f17"
      },
      "execution_count": 26,
      "outputs": [
        {
          "output_type": "execute_result",
          "data": {
            "text/plain": [
              "2"
            ]
          },
          "metadata": {},
          "execution_count": 26
        }
      ]
    },
    {
      "cell_type": "code",
      "source": [
        "5 % 2"
      ],
      "metadata": {
        "colab": {
          "base_uri": "https://localhost:8080/"
        },
        "id": "Qz7UcJU2fA8d",
        "outputId": "e51455e9-17e7-4255-d6ff-4450dd8c9363"
      },
      "execution_count": 27,
      "outputs": [
        {
          "output_type": "execute_result",
          "data": {
            "text/plain": [
              "1"
            ]
          },
          "metadata": {},
          "execution_count": 27
        }
      ]
    },
    {
      "cell_type": "code",
      "source": [
        "5 ** 2"
      ],
      "metadata": {
        "colab": {
          "base_uri": "https://localhost:8080/"
        },
        "id": "TdDQZ35SfEcx",
        "outputId": "32a00749-cb38-44d2-dac1-8979a9d1996f"
      },
      "execution_count": 28,
      "outputs": [
        {
          "output_type": "execute_result",
          "data": {
            "text/plain": [
              "25"
            ]
          },
          "metadata": {},
          "execution_count": 28
        }
      ]
    },
    {
      "cell_type": "code",
      "source": [
        "5 ** 3"
      ],
      "metadata": {
        "colab": {
          "base_uri": "https://localhost:8080/"
        },
        "id": "nbs00i6xfHoY",
        "outputId": "5d5c8f2b-7a49-4576-f3ce-272fecef439d"
      },
      "execution_count": 29,
      "outputs": [
        {
          "output_type": "execute_result",
          "data": {
            "text/plain": [
              "125"
            ]
          },
          "metadata": {},
          "execution_count": 29
        }
      ]
    },
    {
      "cell_type": "markdown",
      "source": [
        "#accepting input from user"
      ],
      "metadata": {
        "id": "Up77CLJkfOU5"
      }
    },
    {
      "cell_type": "code",
      "source": [
        "number1 = int(input('Ener first number:- '))\n",
        "number2 = int(input('Ener second number:- '))\n",
        "\n",
        "ans = number1 + number2\n",
        "\n",
        "print(ans)"
      ],
      "metadata": {
        "colab": {
          "base_uri": "https://localhost:8080/"
        },
        "id": "ayVlWvLIfJdM",
        "outputId": "fb517e4c-d8a1-45c6-ae86-4b46fdf5fda1"
      },
      "execution_count": 32,
      "outputs": [
        {
          "output_type": "stream",
          "name": "stdout",
          "text": [
            "Ener first number:- 50\n",
            "Ener second number:- 55\n",
            "105\n"
          ]
        }
      ]
    },
    {
      "cell_type": "markdown",
      "source": [
        "Which operator would you use to find the remainder when dividing two numbers?\n",
        "\n",
        "Write an expression to calculate the cube of a number using the ** operator.\n",
        "\n",
        "What does the += operator do in Python? Explain with an example.\n",
        "\n",
        "How do you check if two variables a and b are not equal using a comparison operator?\n",
        "\n",
        "Which logical operator is used to check if two conditions are both True?\n",
        "\n",
        "What is the difference between the and and or logical operators?\n",
        "\n",
        "Which operator would you use to invert the result of a boolean expression?\n",
        "\n",
        "What is the result of using the & (bitwise AND) operator on the numbers 6 and 3?\n",
        "\n",
        "How does the left shift operator (<<) modify the value of a number?\n",
        "\n",
        "Write a Python expression to check if a number is divisible by either 2 or 7 using a logical operator."
      ],
      "metadata": {
        "id": "AQTnMEkmgdtW"
      }
    },
    {
      "cell_type": "markdown",
      "source": [
        "![image.png](data:image/png;base64,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)"
      ],
      "metadata": {
        "id": "S193MXk3g2Ot"
      }
    },
    {
      "cell_type": "code",
      "source": [
        "5 ==  7"
      ],
      "metadata": {
        "colab": {
          "base_uri": "https://localhost:8080/"
        },
        "id": "QH1hcF5-frxS",
        "outputId": "ade46a3e-26e0-4021-81a6-345105bdb989"
      },
      "execution_count": 33,
      "outputs": [
        {
          "output_type": "execute_result",
          "data": {
            "text/plain": [
              "False"
            ]
          },
          "metadata": {},
          "execution_count": 33
        }
      ]
    },
    {
      "cell_type": "code",
      "source": [
        "5 == 5"
      ],
      "metadata": {
        "colab": {
          "base_uri": "https://localhost:8080/"
        },
        "id": "z_sy_gS0hCRy",
        "outputId": "de185a31-5177-4c61-dacd-056063abf012"
      },
      "execution_count": 34,
      "outputs": [
        {
          "output_type": "execute_result",
          "data": {
            "text/plain": [
              "True"
            ]
          },
          "metadata": {},
          "execution_count": 34
        }
      ]
    },
    {
      "cell_type": "code",
      "source": [],
      "metadata": {
        "id": "s5kd01tThFIR"
      },
      "execution_count": null,
      "outputs": []
    }
  ]
}