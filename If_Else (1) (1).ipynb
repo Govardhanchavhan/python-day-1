{
  "nbformat": 4,
  "nbformat_minor": 0,
  "metadata": {
    "colab": {
      "provenance": []
    },
    "kernelspec": {
      "name": "python3",
      "display_name": "Python 3"
    },
    "language_info": {
      "name": "python"
    }
  },
  "cells": [
    {
      "cell_type": "markdown",
      "source": [
        "#Conditional Statements\n",
        "\n",
        "#If- else- elif"
      ],
      "metadata": {
        "id": "xHFS2EHC3Qs6"
      }
    },
    {
      "cell_type": "code",
      "execution_count": 3,
      "metadata": {
        "colab": {
          "base_uri": "https://localhost:8080/"
        },
        "id": "lxtyNoWd2-Ef",
        "outputId": "29601980-5fb5-4bc8-d50c-162b4ba4ab0f"
      },
      "outputs": [
        {
          "output_type": "stream",
          "name": "stdout",
          "text": [
            "The number is negative\n"
          ]
        }
      ],
      "source": [
        "num = -5\n",
        "\n",
        "if num > 0:\n",
        "  print(\"The number is positive\")\n",
        "else:\n",
        "  print('The number is negative')"
      ]
    },
    {
      "cell_type": "code",
      "source": [
        "age = int(input('Enter you age:-'))\n",
        "\n",
        "if age >= 18:\n",
        "  print('You are eligible to vote')\n",
        "else:\n",
        "  print('you are not eligible to vote')"
      ],
      "metadata": {
        "colab": {
          "base_uri": "https://localhost:8080/"
        },
        "id": "_B7Lfqdv4Tra",
        "outputId": "2a66a936-7094-4686-8932-5388385867ae"
      },
      "execution_count": 5,
      "outputs": [
        {
          "output_type": "stream",
          "name": "stdout",
          "text": [
            "Enter you age:-21\n",
            "You are eligible to vote\n"
          ]
        }
      ]
    },
    {
      "cell_type": "markdown",
      "source": [
        "#elif"
      ],
      "metadata": {
        "id": "FlzWy8fv6XAB"
      }
    },
    {
      "cell_type": "code",
      "source": [
        "marks = int(input('Enter your mark:-'))\n",
        "\n",
        "\n",
        "if marks >= 90:\n",
        "  print('Grade :- A+')\n",
        "\n",
        "elif marks >=80:\n",
        "  print('Grade :- A')\n",
        "\n",
        "elif marks >= 70:\n",
        "  print('Grade:- B')\n",
        "\n",
        "elif marks >= 35:\n",
        "  print('Grade :- C')\n",
        "\n",
        "else:\n",
        "  print('you are fail')\n"
      ],
      "metadata": {
        "colab": {
          "base_uri": "https://localhost:8080/"
        },
        "id": "wVg6L8VC6C9q",
        "outputId": "456b7ed8-4d32-4844-8624-28d40fac0e24"
      },
      "execution_count": 9,
      "outputs": [
        {
          "output_type": "stream",
          "name": "stdout",
          "text": [
            "Enter your mark:-45\n",
            "Grade :- C\n"
          ]
        }
      ]
    },
    {
      "cell_type": "markdown",
      "source": [
        "#Nested if statement"
      ],
      "metadata": {
        "id": "2Wi72H_S8ci0"
      }
    },
    {
      "cell_type": "code",
      "source": [
        "marks = int(input('Enter your marks :- '))\n",
        "\n",
        "income = int(input('Enter your income :-'))\n",
        "\n",
        "if marks >= 80:\n",
        "  if income < 30000:\n",
        "    print('You are eligible for the scholership')\n",
        "  else:\n",
        "    print('you are not eligible due to high income')\n",
        "\n",
        "else:\n",
        "  print('You are not eligible due to low marks')"
      ],
      "metadata": {
        "colab": {
          "base_uri": "https://localhost:8080/"
        },
        "id": "giE57Ugw7T40",
        "outputId": "b3120e84-7e5c-4eee-dd48-a4086b122385"
      },
      "execution_count": 13,
      "outputs": [
        {
          "output_type": "stream",
          "name": "stdout",
          "text": [
            "Enter your marks :- 85\n",
            "Enter your income :-50000\n",
            "you are not eligible due to high income\n"
          ]
        }
      ]
    },
    {
      "cell_type": "code",
      "source": [
        "num= -4\n",
        "\n",
        "if num >0:\n",
        "  if num % 2 ==0:\n",
        "    print(\"welcome to wardha\")\n",
        "  else:\n",
        "    print(\"welcome to goa singham\")\n",
        "\n",
        "else:\n",
        "  print(\"ghar ja ke soja\")"
      ],
      "metadata": {
        "colab": {
          "base_uri": "https://localhost:8080/"
        },
        "id": "onOZkIz79_q7",
        "outputId": "ff5829ef-6e2b-4748-99dd-f885c27d6a89"
      },
      "execution_count": 17,
      "outputs": [
        {
          "output_type": "stream",
          "name": "stdout",
          "text": [
            "ghar ja ke soja\n"
          ]
        }
      ]
    },
    {
      "cell_type": "markdown",
      "source": [
        "#LOOPS"
      ],
      "metadata": {
        "id": "KpMfOLk1_2JB"
      }
    },
    {
      "cell_type": "markdown",
      "source": [
        "# for loop"
      ],
      "metadata": {
        "id": "kWIx2Grh_7sR"
      }
    },
    {
      "cell_type": "code",
      "source": [
        "for i in range(1, 6):     #in use for iteration\n",
        "  print(i)"
      ],
      "metadata": {
        "colab": {
          "base_uri": "https://localhost:8080/"
        },
        "id": "oWEVoUJq-3yX",
        "outputId": "bdb533d4-3587-4892-cb84-38c037306d77"
      },
      "execution_count": 18,
      "outputs": [
        {
          "output_type": "stream",
          "name": "stdout",
          "text": [
            "1\n",
            "2\n",
            "3\n",
            "4\n",
            "5\n"
          ]
        }
      ]
    },
    {
      "cell_type": "code",
      "source": [
        "text = 'arya'\n",
        "for i in text:      #in use for iteration\n",
        "  print(i)"
      ],
      "metadata": {
        "colab": {
          "base_uri": "https://localhost:8080/"
        },
        "id": "1_Wd1lfEAUsX",
        "outputId": "2d1f609c-a8f1-48b9-e2fc-bb76b0e61692"
      },
      "execution_count": 19,
      "outputs": [
        {
          "output_type": "stream",
          "name": "stdout",
          "text": [
            "a\n",
            "r\n",
            "y\n",
            "a\n"
          ]
        }
      ]
    },
    {
      "cell_type": "code",
      "source": [
        "for i in range(1, 11):\n",
        "  print(i*2)"
      ],
      "metadata": {
        "colab": {
          "base_uri": "https://localhost:8080/"
        },
        "id": "nerIbafQAnL7",
        "outputId": "6fe7868f-c0be-40ac-9c75-8e28f9aa6bf4"
      },
      "execution_count": 20,
      "outputs": [
        {
          "output_type": "stream",
          "name": "stdout",
          "text": [
            "2\n",
            "4\n",
            "6\n",
            "8\n",
            "10\n",
            "12\n",
            "14\n",
            "16\n",
            "18\n",
            "20\n"
          ]
        }
      ]
    },
    {
      "cell_type": "markdown",
      "source": [
        "#while loop"
      ],
      "metadata": {
        "id": "YXrRptVOBGea"
      }
    },
    {
      "cell_type": "code",
      "source": [
        "i = 1\n",
        "while i <=5:\n",
        "  print(i)\n",
        "  i = i + 1"
      ],
      "metadata": {
        "colab": {
          "base_uri": "https://localhost:8080/"
        },
        "id": "OAWsgPq8A7cx",
        "outputId": "4c2136f7-c0d0-4e57-c3d3-880865db3114"
      },
      "execution_count": 21,
      "outputs": [
        {
          "output_type": "stream",
          "name": "stdout",
          "text": [
            "1\n",
            "2\n",
            "3\n",
            "4\n",
            "5\n"
          ]
        }
      ]
    },
    {
      "cell_type": "code",
      "source": [
        "i = 1\n",
        "while i <=10:\n",
        "  print(i*2)\n",
        "  i += 1"
      ],
      "metadata": {
        "colab": {
          "base_uri": "https://localhost:8080/"
        },
        "id": "PU-TntGpBXe6",
        "outputId": "5b2ce1af-9f15-4cf6-8f90-54d1503f0ed8"
      },
      "execution_count": 23,
      "outputs": [
        {
          "output_type": "stream",
          "name": "stdout",
          "text": [
            "2\n",
            "4\n",
            "6\n",
            "8\n",
            "10\n",
            "12\n",
            "14\n",
            "16\n",
            "18\n",
            "20\n"
          ]
        }
      ]
    },
    {
      "cell_type": "markdown",
      "source": [
        "#nested loop"
      ],
      "metadata": {
        "id": "efF8WkSzB4JX"
      }
    },
    {
      "cell_type": "code",
      "source": [
        "for i in range(1 ,4):\n",
        "  for j in range(1,4):\n",
        "    print(f\"{i} x {j} = {i * j}\")\n",
        "  print(\"-----------------\")"
      ],
      "metadata": {
        "colab": {
          "base_uri": "https://localhost:8080/"
        },
        "id": "ts04l9aaBrwB",
        "outputId": "21efd9a2-cd57-4a9a-b17a-3d8261b0934c"
      },
      "execution_count": 24,
      "outputs": [
        {
          "output_type": "stream",
          "name": "stdout",
          "text": [
            "1 x 1 = 1\n",
            "1 x 2 = 2\n",
            "1 x 3 = 3\n",
            "-----------------\n",
            "2 x 1 = 2\n",
            "2 x 2 = 4\n",
            "2 x 3 = 6\n",
            "-----------------\n",
            "3 x 1 = 3\n",
            "3 x 2 = 6\n",
            "3 x 3 = 9\n",
            "-----------------\n"
          ]
        }
      ]
    },
    {
      "cell_type": "code",
      "source": [
        "row = 5\n",
        "for i in range(1, row+1):\n",
        "  for j in range(1 , i+1):\n",
        "    print(\"*\", end =\" \")\n",
        "  print()"
      ],
      "metadata": {
        "colab": {
          "base_uri": "https://localhost:8080/"
        },
        "id": "RkxRUzyECt6x",
        "outputId": "6d4592a1-f8b9-49fd-b244-aadf84624eb7"
      },
      "execution_count": 25,
      "outputs": [
        {
          "output_type": "stream",
          "name": "stdout",
          "text": [
            "* \n",
            "* * \n",
            "* * * \n",
            "* * * * \n",
            "* * * * * \n"
          ]
        }
      ]
    },
    {
      "cell_type": "markdown",
      "source": [
        "#break , pass, and continue"
      ],
      "metadata": {
        "id": "CEJwMcHRDsm9"
      }
    },
    {
      "cell_type": "code",
      "source": [
        "for i in range(1,11):\n",
        "  if i == 5:\n",
        "    break\n",
        "  print(i)"
      ],
      "metadata": {
        "colab": {
          "base_uri": "https://localhost:8080/"
        },
        "id": "v7U07IqQDWCA",
        "outputId": "e5cea366-d996-4720-b082-df313e5818f6"
      },
      "execution_count": 26,
      "outputs": [
        {
          "output_type": "stream",
          "name": "stdout",
          "text": [
            "1\n",
            "2\n",
            "3\n",
            "4\n"
          ]
        }
      ]
    },
    {
      "cell_type": "code",
      "source": [
        "for i in range(1,11):\n",
        "  if i < 7:\n",
        "    continue\n",
        "  print(i)"
      ],
      "metadata": {
        "colab": {
          "base_uri": "https://localhost:8080/"
        },
        "id": "DidRe-FwEGN6",
        "outputId": "6f805906-ebf9-4770-d882-7b8033b8f7a3"
      },
      "execution_count": 27,
      "outputs": [
        {
          "output_type": "stream",
          "name": "stdout",
          "text": [
            "7\n",
            "8\n",
            "9\n",
            "10\n"
          ]
        }
      ]
    },
    {
      "cell_type": "code",
      "source": [
        "for i in range(1 ,5):\n",
        "  if i == 2:\n",
        "    pass    #code to be written later\n",
        "\n",
        "  print(i)\n"
      ],
      "metadata": {
        "colab": {
          "base_uri": "https://localhost:8080/"
        },
        "id": "QpfRXagUEYcG",
        "outputId": "87491a04-f72c-4bd0-c6a7-1eb6163067b1"
      },
      "execution_count": 28,
      "outputs": [
        {
          "output_type": "stream",
          "name": "stdout",
          "text": [
            "1\n",
            "2\n",
            "3\n",
            "4\n"
          ]
        }
      ]
    },
    {
      "cell_type": "markdown",
      "source": [
        "#string manipulation"
      ],
      "metadata": {
        "id": "bQE5N_kpFRnb"
      }
    },
    {
      "cell_type": "code",
      "source": [
        "text = \"hello world\"\n"
      ],
      "metadata": {
        "id": "IjCB42qNE3m7"
      },
      "execution_count": 29,
      "outputs": []
    },
    {
      "cell_type": "code",
      "source": [
        "text[0]"
      ],
      "metadata": {
        "colab": {
          "base_uri": "https://localhost:8080/",
          "height": 35
        },
        "id": "UmzFUQb2FY1X",
        "outputId": "c9989bb7-f929-4132-f017-d9b945569b2b"
      },
      "execution_count": 30,
      "outputs": [
        {
          "output_type": "execute_result",
          "data": {
            "text/plain": [
              "'h'"
            ],
            "application/vnd.google.colaboratory.intrinsic+json": {
              "type": "string"
            }
          },
          "metadata": {},
          "execution_count": 30
        }
      ]
    },
    {
      "cell_type": "code",
      "source": [
        "text[0:5]"
      ],
      "metadata": {
        "colab": {
          "base_uri": "https://localhost:8080/",
          "height": 35
        },
        "id": "iskY9viKFaR9",
        "outputId": "3bd2b165-7eed-47eb-88ed-ca1e44c85a06"
      },
      "execution_count": 31,
      "outputs": [
        {
          "output_type": "execute_result",
          "data": {
            "text/plain": [
              "'hello'"
            ],
            "application/vnd.google.colaboratory.intrinsic+json": {
              "type": "string"
            }
          },
          "metadata": {},
          "execution_count": 31
        }
      ]
    },
    {
      "cell_type": "code",
      "source": [
        "text[-1]"
      ],
      "metadata": {
        "colab": {
          "base_uri": "https://localhost:8080/",
          "height": 35
        },
        "id": "qfZ4mF6pFcp9",
        "outputId": "04108b49-1a49-4b14-9006-c10c3b2e2e93"
      },
      "execution_count": 32,
      "outputs": [
        {
          "output_type": "execute_result",
          "data": {
            "text/plain": [
              "'d'"
            ],
            "application/vnd.google.colaboratory.intrinsic+json": {
              "type": "string"
            }
          },
          "metadata": {},
          "execution_count": 32
        }
      ]
    },
    {
      "cell_type": "code",
      "source": [
        "text.upper()"
      ],
      "metadata": {
        "colab": {
          "base_uri": "https://localhost:8080/",
          "height": 35
        },
        "id": "AQbR0NtEFfNj",
        "outputId": "1cbc612d-514b-48bf-c54d-3f2b22a28e38"
      },
      "execution_count": 33,
      "outputs": [
        {
          "output_type": "execute_result",
          "data": {
            "text/plain": [
              "'HELLO WORLD'"
            ],
            "application/vnd.google.colaboratory.intrinsic+json": {
              "type": "string"
            }
          },
          "metadata": {},
          "execution_count": 33
        }
      ]
    },
    {
      "cell_type": "code",
      "source": [
        "text.lower()"
      ],
      "metadata": {
        "colab": {
          "base_uri": "https://localhost:8080/",
          "height": 35
        },
        "id": "5EYYiMNNFnIy",
        "outputId": "602a492f-3e57-467c-8565-524c970d9010"
      },
      "execution_count": 34,
      "outputs": [
        {
          "output_type": "execute_result",
          "data": {
            "text/plain": [
              "'hello world'"
            ],
            "application/vnd.google.colaboratory.intrinsic+json": {
              "type": "string"
            }
          },
          "metadata": {},
          "execution_count": 34
        }
      ]
    },
    {
      "cell_type": "code",
      "source": [
        "text.title()"
      ],
      "metadata": {
        "colab": {
          "base_uri": "https://localhost:8080/",
          "height": 35
        },
        "id": "M8uotbevFpVN",
        "outputId": "489735bb-c9b4-441c-f2fc-bf4b608a6525"
      },
      "execution_count": 35,
      "outputs": [
        {
          "output_type": "execute_result",
          "data": {
            "text/plain": [
              "'Hello World'"
            ],
            "application/vnd.google.colaboratory.intrinsic+json": {
              "type": "string"
            }
          },
          "metadata": {},
          "execution_count": 35
        }
      ]
    },
    {
      "cell_type": "code",
      "source": [
        "text = \"         arya              \"\n"
      ],
      "metadata": {
        "id": "4TFqPNQ4F2iM"
      },
      "execution_count": 36,
      "outputs": []
    },
    {
      "cell_type": "code",
      "source": [
        "text"
      ],
      "metadata": {
        "colab": {
          "base_uri": "https://localhost:8080/",
          "height": 35
        },
        "id": "6ZPp8owgF7BW",
        "outputId": "c9ecb074-69de-4da5-a4fa-dbd5d4c6f157"
      },
      "execution_count": 37,
      "outputs": [
        {
          "output_type": "execute_result",
          "data": {
            "text/plain": [
              "'         arya              '"
            ],
            "application/vnd.google.colaboratory.intrinsic+json": {
              "type": "string"
            }
          },
          "metadata": {},
          "execution_count": 37
        }
      ]
    },
    {
      "cell_type": "code",
      "source": [
        "text.strip()"
      ],
      "metadata": {
        "colab": {
          "base_uri": "https://localhost:8080/",
          "height": 35
        },
        "id": "NVMfXPeyF8q1",
        "outputId": "a540fc15-398b-4881-da4d-93f2211095a1"
      },
      "execution_count": 38,
      "outputs": [
        {
          "output_type": "execute_result",
          "data": {
            "text/plain": [
              "'arya'"
            ],
            "application/vnd.google.colaboratory.intrinsic+json": {
              "type": "string"
            }
          },
          "metadata": {},
          "execution_count": 38
        }
      ]
    },
    {
      "cell_type": "code",
      "source": [
        "text =\"hello world\""
      ],
      "metadata": {
        "id": "vetlApMDGAor"
      },
      "execution_count": 39,
      "outputs": []
    },
    {
      "cell_type": "code",
      "source": [
        "text.replace('world', 'arya')"
      ],
      "metadata": {
        "colab": {
          "base_uri": "https://localhost:8080/",
          "height": 35
        },
        "id": "kFln7kW5GG6p",
        "outputId": "ea732b98-959a-4e5c-bea4-7c43261bdde3"
      },
      "execution_count": 40,
      "outputs": [
        {
          "output_type": "execute_result",
          "data": {
            "text/plain": [
              "'hello arya'"
            ],
            "application/vnd.google.colaboratory.intrinsic+json": {
              "type": "string"
            }
          },
          "metadata": {},
          "execution_count": 40
        }
      ]
    },
    {
      "cell_type": "code",
      "source": [],
      "metadata": {
        "id": "U0B1P9dwGNJF"
      },
      "execution_count": null,
      "outputs": []
    }
  ]
}