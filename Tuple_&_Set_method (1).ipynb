{
  "nbformat": 4,
  "nbformat_minor": 0,
  "metadata": {
    "colab": {
      "provenance": []
    },
    "kernelspec": {
      "name": "python3",
      "display_name": "Python 3"
    },
    "language_info": {
      "name": "python"
    }
  },
  "cells": [
    {
      "cell_type": "code",
      "execution_count": null,
      "metadata": {
        "id": "Nqp5w_dwqUvl"
      },
      "outputs": [],
      "source": []
    },
    {
      "cell_type": "markdown",
      "source": [
        "Tuple(immutable) Method\n",
        "\n",
        "#1- Count"
      ],
      "metadata": {
        "id": "_3HTmHTVqj0C"
      }
    },
    {
      "cell_type": "code",
      "source": [
        "t1 = (1,2,3,45,1,2,4,65,7,8,9,4)"
      ],
      "metadata": {
        "id": "Hb08wO2YqsaA"
      },
      "execution_count": 3,
      "outputs": []
    },
    {
      "cell_type": "code",
      "source": [
        "t1.count(2)"
      ],
      "metadata": {
        "colab": {
          "base_uri": "https://localhost:8080/"
        },
        "id": "vxlW0m6Bq3dA",
        "outputId": "979fcd7c-3479-44d1-8605-9213f9613b79"
      },
      "execution_count": 4,
      "outputs": [
        {
          "output_type": "execute_result",
          "data": {
            "text/plain": [
              "2"
            ]
          },
          "metadata": {},
          "execution_count": 4
        }
      ]
    },
    {
      "cell_type": "markdown",
      "source": [
        "2. index\n",
        "\n",
        "return the index of the first occurance of the specified value."
      ],
      "metadata": {
        "id": "1Ni2JdSMrQF5"
      }
    },
    {
      "cell_type": "code",
      "source": [
        "t1"
      ],
      "metadata": {
        "colab": {
          "base_uri": "https://localhost:8080/"
        },
        "id": "R17Uw6WRrNP4",
        "outputId": "7fc75cef-073c-4a18-fe61-fb176e8ac32d"
      },
      "execution_count": 5,
      "outputs": [
        {
          "output_type": "execute_result",
          "data": {
            "text/plain": [
              "(1, 2, 3, 45, 1, 2, 4, 65, 7, 8, 9, 4)"
            ]
          },
          "metadata": {},
          "execution_count": 5
        }
      ]
    },
    {
      "cell_type": "code",
      "source": [
        "t1.index(4)"
      ],
      "metadata": {
        "colab": {
          "base_uri": "https://localhost:8080/"
        },
        "id": "NLCnGWeSraxy",
        "outputId": "2cc017fa-eb47-48b5-bb90-6e6ec0a28d06"
      },
      "execution_count": 6,
      "outputs": [
        {
          "output_type": "execute_result",
          "data": {
            "text/plain": [
              "6"
            ]
          },
          "metadata": {},
          "execution_count": 6
        }
      ]
    },
    {
      "cell_type": "code",
      "source": [],
      "metadata": {
        "id": "mAz9NLclrjLl"
      },
      "execution_count": null,
      "outputs": []
    },
    {
      "cell_type": "markdown",
      "source": [
        "Sets Method\n",
        "\n",
        "1 - add(element)"
      ],
      "metadata": {
        "id": "WAJ40OMfrugZ"
      }
    },
    {
      "cell_type": "code",
      "source": [
        "set1 = {1,2,3}"
      ],
      "metadata": {
        "id": "iKCDAIgpr1GR"
      },
      "execution_count": 12,
      "outputs": []
    },
    {
      "cell_type": "code",
      "source": [
        "set1.add(4)"
      ],
      "metadata": {
        "id": "L3i1Rw5yr4ET"
      },
      "execution_count": 13,
      "outputs": []
    },
    {
      "cell_type": "markdown",
      "source": [],
      "metadata": {
        "id": "jBsQvne1sGWy"
      }
    },
    {
      "cell_type": "code",
      "source": [],
      "metadata": {
        "id": "a49XO-L-r6zJ"
      },
      "execution_count": null,
      "outputs": []
    },
    {
      "cell_type": "markdown",
      "source": [
        "remove(element)"
      ],
      "metadata": {
        "id": "GA3fj3b5sTsG"
      }
    },
    {
      "cell_type": "code",
      "source": [
        "set1.remove(4)"
      ],
      "metadata": {
        "id": "IHb7yDwOsWbU"
      },
      "execution_count": 14,
      "outputs": []
    },
    {
      "cell_type": "code",
      "source": [
        "set1"
      ],
      "metadata": {
        "colab": {
          "base_uri": "https://localhost:8080/"
        },
        "id": "W2mC51RasaBH",
        "outputId": "81f5dca0-bfdf-4ea4-c253-e76e09208b29"
      },
      "execution_count": 15,
      "outputs": [
        {
          "output_type": "execute_result",
          "data": {
            "text/plain": [
              "{1, 2, 3}"
            ]
          },
          "metadata": {},
          "execution_count": 15
        }
      ]
    },
    {
      "cell_type": "code",
      "source": [
        "set1.remove(4)"
      ],
      "metadata": {
        "colab": {
          "base_uri": "https://localhost:8080/",
          "height": 141
        },
        "id": "dA-OBvL1sbrx",
        "outputId": "eb851312-753f-449c-ce0b-55ef6cf0f9db"
      },
      "execution_count": 16,
      "outputs": [
        {
          "output_type": "error",
          "ename": "KeyError",
          "evalue": "4",
          "traceback": [
            "\u001b[0;31m---------------------------------------------------------------------------\u001b[0m",
            "\u001b[0;31mKeyError\u001b[0m                                  Traceback (most recent call last)",
            "\u001b[0;32m<ipython-input-16-bc5bb977a8c8>\u001b[0m in \u001b[0;36m<cell line: 1>\u001b[0;34m()\u001b[0m\n\u001b[0;32m----> 1\u001b[0;31m \u001b[0mset1\u001b[0m\u001b[0;34m.\u001b[0m\u001b[0mremove\u001b[0m\u001b[0;34m(\u001b[0m\u001b[0;36m4\u001b[0m\u001b[0;34m)\u001b[0m\u001b[0;34m\u001b[0m\u001b[0;34m\u001b[0m\u001b[0m\n\u001b[0m",
            "\u001b[0;31mKeyError\u001b[0m: 4"
          ]
        }
      ]
    },
    {
      "cell_type": "code",
      "source": [],
      "metadata": {
        "id": "AizSN6AfsmFO"
      },
      "execution_count": null,
      "outputs": []
    },
    {
      "cell_type": "markdown",
      "source": [
        "3.Discard (element)\n",
        "\n",
        "remove the specified element but does not raise the error element is not found."
      ],
      "metadata": {
        "id": "0XEtQsOssn2j"
      }
    },
    {
      "cell_type": "code",
      "source": [],
      "metadata": {
        "id": "0hEe1CdIs2n7"
      },
      "execution_count": null,
      "outputs": []
    },
    {
      "cell_type": "code",
      "source": [
        "set1"
      ],
      "metadata": {
        "colab": {
          "base_uri": "https://localhost:8080/"
        },
        "id": "YU1BTjk6s0EZ",
        "outputId": "fe429804-a59c-4ea2-f8dc-4976fabe2825"
      },
      "execution_count": 17,
      "outputs": [
        {
          "output_type": "execute_result",
          "data": {
            "text/plain": [
              "{1, 2, 3}"
            ]
          },
          "metadata": {},
          "execution_count": 17
        }
      ]
    },
    {
      "cell_type": "code",
      "source": [
        "set1.discard(4)"
      ],
      "metadata": {
        "id": "JUOqjbdHs1KM"
      },
      "execution_count": 18,
      "outputs": []
    },
    {
      "cell_type": "code",
      "source": [],
      "metadata": {
        "id": "ekAev-8Cs6P_"
      },
      "execution_count": null,
      "outputs": []
    },
    {
      "cell_type": "markdown",
      "source": [
        "Pop ()\n",
        "\n",
        "removew and return AN ARBITARY ELEMENT from the set,Raise key error if the set is empty element could be any element"
      ],
      "metadata": {
        "id": "B4kP6RGls-8V"
      }
    },
    {
      "cell_type": "code",
      "source": [
        "set1"
      ],
      "metadata": {
        "colab": {
          "base_uri": "https://localhost:8080/"
        },
        "id": "nYNksGXmtVJv",
        "outputId": "cd696e1b-51e0-4a47-a7af-7d20f81cbf08"
      },
      "execution_count": 19,
      "outputs": [
        {
          "output_type": "execute_result",
          "data": {
            "text/plain": [
              "{1, 2, 3}"
            ]
          },
          "metadata": {},
          "execution_count": 19
        }
      ]
    },
    {
      "cell_type": "code",
      "source": [
        "set1.pop()  # elemnet could be any element"
      ],
      "metadata": {
        "colab": {
          "base_uri": "https://localhost:8080/"
        },
        "id": "InaSoka9tV2d",
        "outputId": "f3032e32-3016-47fa-8cfc-4d7d41a57ce9"
      },
      "execution_count": 20,
      "outputs": [
        {
          "output_type": "execute_result",
          "data": {
            "text/plain": [
              "1"
            ]
          },
          "metadata": {},
          "execution_count": 20
        }
      ]
    },
    {
      "cell_type": "code",
      "source": [],
      "metadata": {
        "id": "EUUAIxQ8tYRZ"
      },
      "execution_count": null,
      "outputs": []
    },
    {
      "cell_type": "markdown",
      "source": [
        "5. clear"
      ],
      "metadata": {
        "id": "dWxY_yMBtnzO"
      }
    },
    {
      "cell_type": "code",
      "source": [
        "set1"
      ],
      "metadata": {
        "colab": {
          "base_uri": "https://localhost:8080/"
        },
        "id": "Rb9lrYgauIbM",
        "outputId": "2e79bae8-de70-4bb7-ee95-1e4f3f5eaa7f"
      },
      "execution_count": 21,
      "outputs": [
        {
          "output_type": "execute_result",
          "data": {
            "text/plain": [
              "{2, 3}"
            ]
          },
          "metadata": {},
          "execution_count": 21
        }
      ]
    },
    {
      "cell_type": "code",
      "source": [
        "set1.clear()"
      ],
      "metadata": {
        "id": "J3aCiYKiuJs6"
      },
      "execution_count": 22,
      "outputs": []
    },
    {
      "cell_type": "code",
      "source": [],
      "metadata": {
        "id": "37h4EpEKu-XU"
      },
      "execution_count": null,
      "outputs": []
    },
    {
      "cell_type": "code",
      "source": [
        "set1"
      ],
      "metadata": {
        "colab": {
          "base_uri": "https://localhost:8080/"
        },
        "id": "siEuP3HfuOMR",
        "outputId": "3de147ae-e1d9-4bad-c8a6-3f7cff8cf79a"
      },
      "execution_count": 23,
      "outputs": [
        {
          "output_type": "execute_result",
          "data": {
            "text/plain": [
              "set()"
            ]
          },
          "metadata": {},
          "execution_count": 23
        }
      ]
    },
    {
      "cell_type": "markdown",
      "source": [
        "6. UPDATE ()"
      ],
      "metadata": {
        "id": "CTkfNJqivJba"
      }
    },
    {
      "cell_type": "code",
      "source": [
        "set1 = {1,2}"
      ],
      "metadata": {
        "id": "gdCqGSdBvNl8"
      },
      "execution_count": 30,
      "outputs": []
    },
    {
      "cell_type": "code",
      "source": [
        "set1.update({3,4,5})"
      ],
      "metadata": {
        "id": "AtNsS4VJuPqh"
      },
      "execution_count": 32,
      "outputs": []
    },
    {
      "cell_type": "code",
      "source": [
        "set1"
      ],
      "metadata": {
        "colab": {
          "base_uri": "https://localhost:8080/"
        },
        "id": "d4hPF_d7vleq",
        "outputId": "952b6154-cd55-4d41-f528-41880e2a5c18"
      },
      "execution_count": 33,
      "outputs": [
        {
          "output_type": "execute_result",
          "data": {
            "text/plain": [
              "{1, 2, 3, 4, 5}"
            ]
          },
          "metadata": {},
          "execution_count": 33
        }
      ]
    },
    {
      "cell_type": "markdown",
      "source": [
        "Empty set , dict,list,tuple"
      ],
      "metadata": {
        "id": "AEhgq8PFuaSm"
      }
    },
    {
      "cell_type": "code",
      "source": [
        "set1 = set()"
      ],
      "metadata": {
        "id": "tyEKCwJkuguf"
      },
      "execution_count": 24,
      "outputs": []
    },
    {
      "cell_type": "code",
      "source": [
        "dict = {}"
      ],
      "metadata": {
        "id": "NTaTGTfIuk7n"
      },
      "execution_count": 26,
      "outputs": []
    },
    {
      "cell_type": "code",
      "source": [
        "li = []"
      ],
      "metadata": {
        "id": "0i5N17xGuoVK"
      },
      "execution_count": 28,
      "outputs": []
    },
    {
      "cell_type": "code",
      "source": [
        "t1= ()"
      ],
      "metadata": {
        "id": "KaaBboEBuuqW"
      },
      "execution_count": 29,
      "outputs": []
    },
    {
      "cell_type": "code",
      "source": [],
      "metadata": {
        "id": "IicPa0fruyeo"
      },
      "execution_count": null,
      "outputs": []
    }
  ]
}