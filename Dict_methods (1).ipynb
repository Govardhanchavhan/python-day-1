{
  "nbformat": 4,
  "nbformat_minor": 0,
  "metadata": {
    "colab": {
      "provenance": []
    },
    "kernelspec": {
      "name": "python3",
      "display_name": "Python 3"
    },
    "language_info": {
      "name": "python"
    }
  },
  "cells": [
    {
      "cell_type": "code",
      "execution_count": 1,
      "metadata": {
        "id": "pHfbw1QzvwzD"
      },
      "outputs": [],
      "source": [
        "my_dict = {'a':1,'b':2,'c':3}"
      ]
    },
    {
      "cell_type": "code",
      "source": [],
      "metadata": {
        "id": "yS61FnREwTEM"
      },
      "execution_count": null,
      "outputs": []
    },
    {
      "cell_type": "markdown",
      "source": [
        "1. Clear()"
      ],
      "metadata": {
        "id": "Ap1otMluwXQX"
      }
    },
    {
      "cell_type": "code",
      "source": [
        "my_dict.clear()"
      ],
      "metadata": {
        "id": "QDg6D3PowaAz"
      },
      "execution_count": 2,
      "outputs": []
    },
    {
      "cell_type": "code",
      "source": [
        "my_dict"
      ],
      "metadata": {
        "colab": {
          "base_uri": "https://localhost:8080/"
        },
        "id": "_pm8n3JBwejz",
        "outputId": "3d78cbd3-98e1-4a24-b21f-6e43b91daa46"
      },
      "execution_count": 3,
      "outputs": [
        {
          "output_type": "execute_result",
          "data": {
            "text/plain": [
              "{}"
            ]
          },
          "metadata": {},
          "execution_count": 3
        }
      ]
    },
    {
      "cell_type": "markdown",
      "source": [
        "2. Copy"
      ],
      "metadata": {
        "id": "_LBo3V78wkfq"
      }
    },
    {
      "cell_type": "markdown",
      "source": [
        "3. From keys (iterable, vlaue)\n",
        "\n",
        "create a new dict with keys from given itterables and set all values to the specified value(default is null ie.none)  "
      ],
      "metadata": {
        "id": "e2t7joR9wmfD"
      }
    },
    {
      "cell_type": "code",
      "source": [
        "keys = ['a','b','c','d']"
      ],
      "metadata": {
        "id": "p_Pektnqwiq6"
      },
      "execution_count": 4,
      "outputs": []
    },
    {
      "cell_type": "code",
      "source": [
        "my_new_dict = dict.fromkeys(keys,1)"
      ],
      "metadata": {
        "id": "RYLas00cxQIg"
      },
      "execution_count": 8,
      "outputs": []
    },
    {
      "cell_type": "code",
      "source": [
        "my_new_dict"
      ],
      "metadata": {
        "colab": {
          "base_uri": "https://localhost:8080/"
        },
        "id": "cw8_Ek5pxeMX",
        "outputId": "462d3d1c-2697-458d-8bfb-5922629c7545"
      },
      "execution_count": 9,
      "outputs": [
        {
          "output_type": "execute_result",
          "data": {
            "text/plain": [
              "{'a': 1, 'b': 1, 'c': 1, 'd': 1}"
            ]
          },
          "metadata": {},
          "execution_count": 9
        }
      ]
    },
    {
      "cell_type": "code",
      "source": [],
      "metadata": {
        "id": "i64t04Dkxl4n"
      },
      "execution_count": null,
      "outputs": []
    },
    {
      "cell_type": "code",
      "source": [],
      "metadata": {
        "id": "Mme47BhRyDJe"
      },
      "execution_count": null,
      "outputs": []
    },
    {
      "cell_type": "markdown",
      "source": [
        "4. Gate (keys , default)method\n",
        "\n",
        "return the value from the specific keys if the key exist;otherwise,return the default value."
      ],
      "metadata": {
        "id": "RKMJzzU1xuIB"
      }
    },
    {
      "cell_type": "code",
      "source": [
        "my_dict = {'name': 'arya','age':21}"
      ],
      "metadata": {
        "id": "vnaYSkKVyA4e"
      },
      "execution_count": 10,
      "outputs": []
    },
    {
      "cell_type": "code",
      "source": [
        "my_dict.get('name')"
      ],
      "metadata": {
        "colab": {
          "base_uri": "https://localhost:8080/",
          "height": 35
        },
        "id": "11vShsvcyebD",
        "outputId": "b6048585-59f6-4b17-8be1-d6fd80607fdf"
      },
      "execution_count": 11,
      "outputs": [
        {
          "output_type": "execute_result",
          "data": {
            "text/plain": [
              "'arya'"
            ],
            "application/vnd.google.colaboratory.intrinsic+json": {
              "type": "string"
            }
          },
          "metadata": {},
          "execution_count": 11
        }
      ]
    },
    {
      "cell_type": "code",
      "source": [
        "my_dict.get('age')"
      ],
      "metadata": {
        "colab": {
          "base_uri": "https://localhost:8080/"
        },
        "id": "dNgvVPx4yiqE",
        "outputId": "7e54a086-1953-43b7-afca-dc005a56f232"
      },
      "execution_count": 12,
      "outputs": [
        {
          "output_type": "execute_result",
          "data": {
            "text/plain": [
              "21"
            ]
          },
          "metadata": {},
          "execution_count": 12
        }
      ]
    },
    {
      "cell_type": "code",
      "source": [
        "my_dict.get('gender','NA')"
      ],
      "metadata": {
        "colab": {
          "base_uri": "https://localhost:8080/",
          "height": 35
        },
        "id": "yFtiUpKHyosm",
        "outputId": "26e98b98-a2d2-4580-e969-26541bd25fbe"
      },
      "execution_count": 14,
      "outputs": [
        {
          "output_type": "execute_result",
          "data": {
            "text/plain": [
              "'NA'"
            ],
            "application/vnd.google.colaboratory.intrinsic+json": {
              "type": "string"
            }
          },
          "metadata": {},
          "execution_count": 14
        }
      ]
    },
    {
      "cell_type": "code",
      "source": [],
      "metadata": {
        "id": "FeDMjox3ysVJ"
      },
      "execution_count": null,
      "outputs": []
    },
    {
      "cell_type": "markdown",
      "source": [
        "5.keys() & Vlaue\n",
        "\n"
      ],
      "metadata": {
        "id": "dAOFXc7Ly5LJ"
      }
    },
    {
      "cell_type": "code",
      "source": [
        "my_dict.keys()"
      ],
      "metadata": {
        "colab": {
          "base_uri": "https://localhost:8080/"
        },
        "id": "WH2RyEkczVnP",
        "outputId": "74f641e2-0eae-4333-ba58-8b2adb6f7482"
      },
      "execution_count": 15,
      "outputs": [
        {
          "output_type": "execute_result",
          "data": {
            "text/plain": [
              "dict_keys(['name', 'age'])"
            ]
          },
          "metadata": {},
          "execution_count": 15
        }
      ]
    },
    {
      "cell_type": "code",
      "source": [
        "my_dict.values()"
      ],
      "metadata": {
        "colab": {
          "base_uri": "https://localhost:8080/"
        },
        "id": "AFcQPT_3zZCv",
        "outputId": "b7178700-fc8a-4787-8314-a0a38c0021ac"
      },
      "execution_count": 16,
      "outputs": [
        {
          "output_type": "execute_result",
          "data": {
            "text/plain": [
              "dict_values(['arya', 21])"
            ]
          },
          "metadata": {},
          "execution_count": 16
        }
      ]
    },
    {
      "cell_type": "code",
      "source": [],
      "metadata": {
        "id": "DTmjyJW-zghy"
      },
      "execution_count": null,
      "outputs": []
    }
  ]
}