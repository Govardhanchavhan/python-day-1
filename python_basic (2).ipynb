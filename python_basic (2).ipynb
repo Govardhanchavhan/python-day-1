{
  "nbformat": 4,
  "nbformat_minor": 0,
  "metadata": {
    "colab": {
      "provenance": [],
      "toc_visible": true
    },
    "kernelspec": {
      "name": "python3",
      "display_name": "Python 3"
    },
    "language_info": {
      "name": "python"
    }
  },
  "cells": [
    {
      "cell_type": "code",
      "execution_count": null,
      "metadata": {
        "colab": {
          "base_uri": "https://localhost:8080/"
        },
        "id": "-e4dTyIQdp2c",
        "outputId": "13057634-fe1e-4718-bc4e-45d75c9fe09a"
      },
      "outputs": [
        {
          "output_type": "stream",
          "name": "stdout",
          "text": [
            "True\n"
          ]
        }
      ],
      "source": [
        "x = 5\n",
        "y = 10\n",
        "print(x > 3 and y < 15)  # Output: True"
      ]
    },
    {
      "cell_type": "code",
      "source": [
        "x = 5\n",
        "y = 10\n",
        "\n",
        "print(x > 3 and y < 15)  # Output: True\n",
        "print(x > 6 or y < 15)   # Output: True\n"
      ],
      "metadata": {
        "colab": {
          "base_uri": "https://localhost:8080/"
        },
        "id": "hIoPW_tneYpg",
        "outputId": "c06744de-8a55-4f5a-91cf-c95b38d155d5"
      },
      "execution_count": null,
      "outputs": [
        {
          "output_type": "stream",
          "name": "stdout",
          "text": [
            "True\n",
            "True\n"
          ]
        }
      ]
    },
    {
      "cell_type": "code",
      "source": [
        "result = 6 & 3  # Binary: 010, Output: 2\n",
        "print(result)   # Output: 2\n",
        ""
      ],
      "metadata": {
        "colab": {
          "base_uri": "https://localhost:8080/"
        },
        "id": "ukONZq97e1WV",
        "outputId": "3a0d5f5d-e8ae-4560-a4f3-eef0dfd1733c"
      },
      "execution_count": null,
      "outputs": [
        {
          "output_type": "stream",
          "name": "stdout",
          "text": [
            "2\n"
          ]
        }
      ]
    },
    {
      "cell_type": "code",
      "source": [
        "num = 14\n",
        "print(num % 2 == 0 or num % 7 == 0 )"
      ],
      "metadata": {
        "colab": {
          "base_uri": "https://localhost:8080/"
        },
        "id": "iNEi-_udfdRX",
        "outputId": "c17690c9-055a-4aeb-dbc9-069ae2a10054"
      },
      "execution_count": null,
      "outputs": [
        {
          "output_type": "stream",
          "name": "stdout",
          "text": [
            "True\n"
          ]
        }
      ]
    },
    {
      "cell_type": "code",
      "source": [
        "num = 10 , 20 , 40.65"
      ],
      "metadata": {
        "id": "8TjpvPjDgzhd"
      },
      "execution_count": null,
      "outputs": []
    },
    {
      "cell_type": "code",
      "source": [
        "num"
      ],
      "metadata": {
        "colab": {
          "base_uri": "https://localhost:8080/"
        },
        "id": "U1UE05CxhGkU",
        "outputId": "024dbdc4-f8c8-422d-8e7b-d112831f8c59"
      },
      "execution_count": null,
      "outputs": [
        {
          "output_type": "execute_result",
          "data": {
            "text/plain": [
              "(10, 20, 40.65)"
            ]
          },
          "metadata": {},
          "execution_count": 8
        }
      ]
    },
    {
      "cell_type": "markdown",
      "source": [
        "#collection data type"
      ],
      "metadata": {
        "id": "pkm-HyTwhUnB"
      }
    },
    {
      "cell_type": "markdown",
      "source": [
        "#1. List\n",
        "Definition: A mutable, ordered collection of items.\n",
        "\n",
        "Features:\n",
        "Can store duplicate values.\n",
        "\n",
        "Items can be added, removed, or changed.\n",
        "\n",
        "Defined using square brackets []."
      ],
      "metadata": {
        "id": "1m9_aQ8AhY3e"
      }
    },
    {
      "cell_type": "code",
      "source": [
        "fruits = ['banana', 'orange', 'apple']"
      ],
      "metadata": {
        "id": "xjb-eACFhHlf"
      },
      "execution_count": null,
      "outputs": []
    },
    {
      "cell_type": "code",
      "source": [
        "numbers = [2,3,4,5,6,7,8,9,2,3,4]"
      ],
      "metadata": {
        "id": "-RhdTDmuiIR2"
      },
      "execution_count": null,
      "outputs": []
    },
    {
      "cell_type": "code",
      "source": [
        "list1 = [12, 25.65, \"arya\", True, False]"
      ],
      "metadata": {
        "id": "Hl0ShJugiVZA"
      },
      "execution_count": null,
      "outputs": []
    },
    {
      "cell_type": "markdown",
      "source": [
        "#2. Tuple\n",
        "Definition: An immutable, ordered collection of items.\n",
        "\n",
        "Features:\n",
        "Cannot modify the items once created.\n",
        "\n",
        "Defined using parentheses ()."
      ],
      "metadata": {
        "id": "-LSeFaDZjXRs"
      }
    },
    {
      "cell_type": "code",
      "source": [
        "my1 = (1,2,3,4,5,6,1,2)"
      ],
      "metadata": {
        "id": "l9Q1mZNRi65I"
      },
      "execution_count": null,
      "outputs": []
    },
    {
      "cell_type": "code",
      "source": [
        "my1"
      ],
      "metadata": {
        "colab": {
          "base_uri": "https://localhost:8080/"
        },
        "id": "t5JMkYi7kmBV",
        "outputId": "343bd5b9-a7a1-432e-cee8-144f8768eb84"
      },
      "execution_count": null,
      "outputs": [
        {
          "output_type": "execute_result",
          "data": {
            "text/plain": [
              "(1, 2, 3, 4, 5, 6, 1, 2)"
            ]
          },
          "metadata": {},
          "execution_count": 13
        }
      ]
    },
    {
      "cell_type": "markdown",
      "source": [
        "#3. Set\n",
        "Definition: An unordered collection of unique items.\n",
        "\n",
        "Features:\n",
        "Does not allow duplicate values.\n",
        "\n",
        "Defined using curly braces {}."
      ],
      "metadata": {
        "id": "AY2oYupiksZU"
      }
    },
    {
      "cell_type": "code",
      "source": [
        "my2 ={1,2,3,4,5,6,1,2}"
      ],
      "metadata": {
        "id": "qfUttk8Qknae"
      },
      "execution_count": null,
      "outputs": []
    },
    {
      "cell_type": "code",
      "source": [
        "my2"
      ],
      "metadata": {
        "colab": {
          "base_uri": "https://localhost:8080/"
        },
        "id": "hWVIBe5gk-ps",
        "outputId": "40a07400-7da7-47a4-f0ec-f873e7807ad6"
      },
      "execution_count": null,
      "outputs": [
        {
          "output_type": "execute_result",
          "data": {
            "text/plain": [
              "{1, 2, 3, 4, 5, 6}"
            ]
          },
          "metadata": {},
          "execution_count": 15
        }
      ]
    },
    {
      "cell_type": "markdown",
      "source": [
        "#4.Dictionary\n",
        "Definition: An unordered collection of key-value pairs.\n",
        "\n",
        "Features:\n",
        "Keys must be unique, but values can be duplicated.\n",
        "\n",
        "Defined using curly braces { }."
      ],
      "metadata": {
        "id": "J2B-Mz-PlRtv"
      }
    },
    {
      "cell_type": "code",
      "source": [
        "dict = {'name':'arya', 'age': 21, 'city': 'wardha'}"
      ],
      "metadata": {
        "id": "dHFk2Hrak_rb"
      },
      "execution_count": null,
      "outputs": []
    },
    {
      "cell_type": "code",
      "source": [
        "dict"
      ],
      "metadata": {
        "colab": {
          "base_uri": "https://localhost:8080/"
        },
        "id": "b2v9yk-dmDgN",
        "outputId": "3cb25974-4351-443a-d8e5-b8273fa72514"
      },
      "execution_count": null,
      "outputs": [
        {
          "output_type": "execute_result",
          "data": {
            "text/plain": [
              "{'name': 'arya', 'age': 21, 'city': 'wardha'}"
            ]
          },
          "metadata": {},
          "execution_count": 17
        }
      ]
    },
    {
      "cell_type": "code",
      "source": [
        "dict = {'name': ['arya', 'govardhan'] , 'age': [21,28],  'city': ['wardha', 'akola']}"
      ],
      "metadata": {
        "id": "fJ58wZOImEe8"
      },
      "execution_count": null,
      "outputs": []
    },
    {
      "cell_type": "code",
      "source": [
        "dict"
      ],
      "metadata": {
        "colab": {
          "base_uri": "https://localhost:8080/"
        },
        "id": "6FJfeYxmmbBd",
        "outputId": "e56a1f8e-36a3-4e93-e494-5db831b29e37"
      },
      "execution_count": null,
      "outputs": [
        {
          "output_type": "execute_result",
          "data": {
            "text/plain": [
              "{'name': ['arya', 'govardhan'], 'age': [21, 28], 'city': ['wardha', 'akola']}"
            ]
          },
          "metadata": {},
          "execution_count": 19
        }
      ]
    },
    {
      "cell_type": "markdown",
      "source": [
        "![image.png](data:image/png;base64,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)"
      ],
      "metadata": {
        "id": "IIRkIAOMm5WL"
      }
    },
    {
      "cell_type": "code",
      "source": [
        "dict = {'name': ['arya', 'govardhan'] , 'age': [21,28],  'city': ['arya', 'govardhan']}"
      ],
      "metadata": {
        "id": "C9VCbLdnmb4c"
      },
      "execution_count": null,
      "outputs": []
    },
    {
      "cell_type": "code",
      "source": [
        "dict"
      ],
      "metadata": {
        "colab": {
          "base_uri": "https://localhost:8080/"
        },
        "id": "KEEceiRknPK5",
        "outputId": "a013ac40-e107-4bc9-acd3-c584cafbe42e"
      },
      "execution_count": null,
      "outputs": [
        {
          "output_type": "execute_result",
          "data": {
            "text/plain": [
              "{'name': ['arya', 'govardhan'], 'age': [21, 28], 'city': ['arya', 'govardhan']}"
            ]
          },
          "metadata": {},
          "execution_count": 23
        }
      ]
    },
    {
      "cell_type": "markdown",
      "source": [
        "#list methods -\n",
        "a method is essentially a function that is associated with an object and can act on that object or retrieve information about it.\n",
        "\n",
        "Methods are called using the syntax object.method()."
      ],
      "metadata": {
        "id": "NxNDorZznpdv"
      }
    },
    {
      "cell_type": "markdown",
      "source": [
        "#1-  .append()\n"
      ],
      "metadata": {
        "id": "g2-GlfuzoXvI"
      }
    },
    {
      "cell_type": "code",
      "source": [
        "my_list = [1,2,3,4,5]"
      ],
      "metadata": {
        "id": "ayYdugRAnQJE"
      },
      "execution_count": null,
      "outputs": []
    },
    {
      "cell_type": "code",
      "source": [
        "my_list.append(6)"
      ],
      "metadata": {
        "id": "WAh9wUivoopW"
      },
      "execution_count": null,
      "outputs": []
    },
    {
      "cell_type": "code",
      "source": [
        "my_list"
      ],
      "metadata": {
        "colab": {
          "base_uri": "https://localhost:8080/"
        },
        "id": "NH9TlXbMo2zV",
        "outputId": "55db17d5-c4e1-45bc-ee8d-1f836ec21b9c"
      },
      "execution_count": null,
      "outputs": [
        {
          "output_type": "execute_result",
          "data": {
            "text/plain": [
              "[1, 2, 3, 4, 5, 6]"
            ]
          },
          "metadata": {},
          "execution_count": 27
        }
      ]
    },
    {
      "cell_type": "markdown",
      "source": [
        "#2. .extend()"
      ],
      "metadata": {
        "id": "u5Wz5B4vpFar"
      }
    },
    {
      "cell_type": "code",
      "source": [
        "my_list.extend([7,8,9,10])"
      ],
      "metadata": {
        "id": "VpmCmOino4fm"
      },
      "execution_count": null,
      "outputs": []
    },
    {
      "cell_type": "code",
      "source": [
        "my_list"
      ],
      "metadata": {
        "colab": {
          "base_uri": "https://localhost:8080/"
        },
        "id": "6Y58xmmqpgIJ",
        "outputId": "c36534b8-3eac-48b2-86aa-c2e16e8225c0"
      },
      "execution_count": null,
      "outputs": [
        {
          "output_type": "execute_result",
          "data": {
            "text/plain": [
              "[1, 2, 3, 4, 5, 6, 7, 8, 9, 10]"
            ]
          },
          "metadata": {},
          "execution_count": 29
        }
      ]
    },
    {
      "cell_type": "code",
      "source": [
        "my_list.append([78,98,64,45])"
      ],
      "metadata": {
        "id": "fPCP1lpFph6Z"
      },
      "execution_count": null,
      "outputs": []
    },
    {
      "cell_type": "code",
      "source": [
        "my_list"
      ],
      "metadata": {
        "colab": {
          "base_uri": "https://localhost:8080/"
        },
        "id": "ahlsJTULpncU",
        "outputId": "1226f194-25bc-47be-d52a-ba9b674d407e"
      },
      "execution_count": null,
      "outputs": [
        {
          "output_type": "execute_result",
          "data": {
            "text/plain": [
              "[1, 2, 3, 4, 5, 6, 7, 8, 9, 10, [78, 98, 64, 45]]"
            ]
          },
          "metadata": {},
          "execution_count": 31
        }
      ]
    },
    {
      "cell_type": "code",
      "source": [
        "a = {7,8,9,7,0,8,5,4}"
      ],
      "metadata": {
        "id": "A73UpMmLpqmh"
      },
      "execution_count": null,
      "outputs": []
    },
    {
      "cell_type": "code",
      "source": [
        "a."
      ],
      "metadata": {
        "id": "VF8Cw0_Jp-In"
      },
      "execution_count": null,
      "outputs": []
    }
  ]
}